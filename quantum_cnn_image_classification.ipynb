{
 "cells": [
  {
   "cell_type": "code",
   "execution_count": 1,
   "metadata": {},
   "outputs": [],
   "source": [
    "# This cell is added by sphinx-gallery\n",
    "# It can be customized to whatever you like\n",
    "%matplotlib inline\n",
    "# !pip install nbconvert\n",
    "# !sudo apt-get install pandoc"
   ]
  },
  {
   "cell_type": "code",
   "execution_count": 2,
   "metadata": {},
   "outputs": [],
   "source": [
    "# !pip install pennylane"
   ]
  },
  {
   "cell_type": "code",
   "execution_count": 1,
   "metadata": {},
   "outputs": [
    {
     "name": "stderr",
     "output_type": "stream",
     "text": [
      "2022-08-07 22:05:26.896168: I tensorflow/core/util/util.cc:169] oneDNN custom operations are on. You may see slightly different numerical results due to floating-point round-off errors from different computation orders. To turn them off, set the environment variable `TF_ENABLE_ONEDNN_OPTS=0`.\n",
      "2022-08-07 22:05:27.043710: W tensorflow/stream_executor/platform/default/dso_loader.cc:64] Could not load dynamic library 'libcudart.so.11.0'; dlerror: libcudart.so.11.0: cannot open shared object file: No such file or directory\n",
      "2022-08-07 22:05:27.043752: I tensorflow/stream_executor/cuda/cudart_stub.cc:29] Ignore above cudart dlerror if you do not have a GPU set up on your machine.\n"
     ]
    }
   ],
   "source": [
    "import pennylane as qml\n",
    "from pennylane import numpy as np\n",
    "from pennylane.templates import RandomLayers\n",
    "import tensorflow as tf\n",
    "from tensorflow import keras\n",
    "import matplotlib.pyplot as plt"
   ]
  },
  {
   "cell_type": "markdown",
   "metadata": {},
   "source": [
    "Setting of the main hyper-parameters of the model\n",
    "=================================================\n"
   ]
  },
  {
   "cell_type": "code",
   "execution_count": 2,
   "metadata": {},
   "outputs": [],
   "source": [
    "n_epochs = 30   # Number of optimization epochs\n",
    "n_layers = 1    # Number of random layers\n",
    "n_train = 50    # Size of the train dataset\n",
    "n_test = 30     # Size of the test dataset\n",
    "\n",
    "SAVE_PATH = \"quanvolution/\" # Data saving folder\n",
    "PREPROCESS = True           # If False, skip quantum processing and load data from SAVE_PATH\n",
    "np.random.seed(0)           # Seed for NumPy random number generator\n",
    "tf.random.set_seed(0)       # Seed for TensorFlow random number generator"
   ]
  },
  {
   "cell_type": "code",
   "execution_count": 3,
   "metadata": {},
   "outputs": [
    {
     "name": "stdout",
     "output_type": "stream",
     "text": [
      "60000\n",
      "10000\n"
     ]
    }
   ],
   "source": [
    "mnist_dataset = keras.datasets.mnist\n",
    "(train_images, train_labels), (test_images, test_labels) = mnist_dataset.load_data()\n",
    "\n",
    "n_epochs = 30   # Number of optimization epochs\n",
    "n_layers = 1    # Number of random layers\n",
    "n_train = len(train_images)    # Size of the train dataset\n",
    "n_test = len(test_images)     # Size of the test dataset\n",
    "\n",
    "print(len(train_images))\n",
    "print(len(test_images))\n"
   ]
  },
  {
   "cell_type": "markdown",
   "metadata": {},
   "source": [
    "Loading of the MNIST dataset\n",
    "============================\n",
    "\n",
    "We import the MNIST dataset from *Keras*. To speedup the evaluation of\n",
    "this demo we use only a small number of training and test images.\n",
    "Obviously, better results are achievable when using the full dataset.\n"
   ]
  },
  {
   "cell_type": "code",
   "execution_count": 18,
   "metadata": {},
   "outputs": [],
   "source": [
    "\n",
    "# Reduce dataset size\n",
    "train_images = train_images[:n_train]\n",
    "train_labels = train_labels[:n_train]\n",
    "test_images = test_images[:n_test]\n",
    "test_labels = test_labels[:n_test]\n",
    "\n",
    "# Normalize pixel values within 0 and 1\n",
    "train_images = train_images / 255\n",
    "test_images = test_images / 255\n",
    "\n",
    "# Add extra dimension for convolution channels\n",
    "train_images = np.array(train_images[..., tf.newaxis], requires_grad=False)\n",
    "test_images = np.array(test_images[..., tf.newaxis], requires_grad=False)"
   ]
  },
  {
   "cell_type": "code",
   "execution_count": 19,
   "metadata": {},
   "outputs": [],
   "source": [
    "dev = qml.device(\"default.qubit\", wires=4)\n",
    "# Random circuit parameters\n",
    "rand_params = np.random.uniform(high=2 * np.pi, size=(n_layers, 4))\n",
    "\n",
    "@qml.qnode(dev)\n",
    "def circuit(phi):\n",
    "    # Encoding of 4 classical input values\n",
    "    for j in range(4):\n",
    "        qml.RY(np.pi * phi[j], wires=j)\n",
    "\n",
    "    # Random quantum circuit\n",
    "    RandomLayers(rand_params, wires=list(range(4)))\n",
    "\n",
    "    # Measurement producing 4 classical output values\n",
    "    return [qml.expval(qml.PauliZ(j)) for j in range(4)]"
   ]
  },
  {
   "cell_type": "code",
   "execution_count": 20,
   "metadata": {},
   "outputs": [],
   "source": [
    "def quanv(image):\n",
    "    \"\"\"Convolves the input image with many applications of the same quantum circuit.\"\"\"\n",
    "    out = np.zeros((14, 14, 4))\n",
    "\n",
    "    # Loop over the coordinates of the top-left pixel of 2X2 squares\n",
    "    for j in range(0, 28, 2):\n",
    "        for k in range(0, 28, 2):\n",
    "            # Process a squared 2x2 region of the image with a quantum circuit\n",
    "            q_results = circuit(\n",
    "                [\n",
    "                    image[j, k, 0],\n",
    "                    image[j, k + 1, 0],\n",
    "                    image[j + 1, k, 0],\n",
    "                    image[j + 1, k + 1, 0]\n",
    "                ]\n",
    "            )\n",
    "            # Assign expectation values to different channels of the output pixel (j/2, k/2)\n",
    "            for c in range(4):\n",
    "                out[j // 2, k // 2, c] = q_results[c]\n",
    "    return out"
   ]
  },
  {
   "cell_type": "code",
   "execution_count": 1,
   "metadata": {},
   "outputs": [],
   "source": [
    "if PREPROCESS == True:\n",
    "    q_train_images = []\n",
    "    print(\"Quantum pre-processing of train images:\")\n",
    "    for idx, img in enumerate(train_images):\n",
    "        print(\"{}/{}        \".format(idx + 1, n_train), end=\"\\r\")\n",
    "        q_train_images.append(quanv(img))\n",
    "    q_train_images = np.asarray(q_train_images)\n",
    "\n",
    "    q_test_images = []\n",
    "    print(\"\\nQuantum pre-processing of test images:\")\n",
    "    for idx, img in enumerate(test_images):\n",
    "        print(\"{}/{}        \".format(idx + 1, n_test), end=\"\\r\")\n",
    "        q_test_images.append(quanv(img))\n",
    "    q_test_images = np.asarray(q_test_images)"
   ]
  },
  {
   "cell_type": "code",
   "execution_count": 23,
   "metadata": {},
   "outputs": [
    {
     "name": "stdout",
     "output_type": "stream",
     "text": [
      "tutorial_quanvolution.ipynb\n",
      "/mnt/d/Quantum Computing\n"
     ]
    }
   ],
   "source": [
    "# !ls\n",
    "!pwd"
   ]
  },
  {
   "cell_type": "code",
   "execution_count": 24,
   "metadata": {},
   "outputs": [],
   "source": [
    "import os\n",
    "\n",
    "parent_dir = \"/mnt/d/Quantum Computing\"\n",
    "path = os.path.join(parent_dir, SAVE_PATH)\n",
    "  \n",
    "os.mkdir(path)"
   ]
  },
  {
   "cell_type": "code",
   "execution_count": 25,
   "metadata": {},
   "outputs": [
    {
     "name": "stdout",
     "output_type": "stream",
     "text": [
      "quanvolution  tutorial_quanvolution.ipynb\r\n"
     ]
    }
   ],
   "source": [
    "!ls"
   ]
  },
  {
   "cell_type": "code",
   "execution_count": 27,
   "metadata": {},
   "outputs": [],
   "source": [
    "\n",
    "if PREPROCESS == True:\n",
    "    # Save pre-processed images\n",
    "    np.save(SAVE_PATH + \"q_train_images.npy\", q_train_images)\n",
    "    np.save(SAVE_PATH + \"q_test_images.npy\", q_test_images)\n",
    "\n",
    "# Load pre-processed images\n",
    "q_train_images = np.load(SAVE_PATH + \"q_train_images.npy\")\n",
    "q_test_images = np.load(SAVE_PATH + \"q_test_images.npy\")"
   ]
  },
  {
   "cell_type": "markdown",
   "metadata": {},
   "source": [
    "Let us visualize the effect of the quantum convolution layer on a batch\n",
    "of samples:\n"
   ]
  },
  {
   "cell_type": "code",
   "execution_count": 28,
   "metadata": {},
   "outputs": [
    {
     "data": {
      "image/png": "[encoded data removed]",
      "text/plain": [
       "<Figure size 720x720 with 20 Axes>"
      ]
     },
     "metadata": {
      "needs_background": "light"
     },
     "output_type": "display_data"
    }
   ],
   "source": [
    "n_samples = 4\n",
    "n_channels = 4\n",
    "fig, axes = plt.subplots(1 + n_channels, n_samples, figsize=(10, 10))\n",
    "for k in range(n_samples):\n",
    "    axes[0, 0].set_ylabel(\"Input\")\n",
    "    if k != 0:\n",
    "        axes[0, k].yaxis.set_visible(False)\n",
    "    axes[0, k].imshow(train_images[k, :, :, 0], cmap=\"gray\")\n",
    "\n",
    "    # Plot all output channels\n",
    "    for c in range(n_channels):\n",
    "        axes[c + 1, 0].set_ylabel(\"Output [ch. {}]\".format(c))\n",
    "        if k != 0:\n",
    "            axes[c, k].yaxis.set_visible(False)\n",
    "        axes[c + 1, k].imshow(q_train_images[k, :, :, c], cmap=\"gray\")\n",
    "\n",
    "plt.tight_layout()\n",
    "plt.show()"
   ]
  },
  {
   "cell_type": "markdown",
   "metadata": {},
   "source": [
    "Below each input image, the $4$ output channels generated by the quantum\n",
    "convolution are visualized in gray scale.\n",
    "\n",
    "One can clearly notice the downsampling of the resolution and some local\n",
    "distortion introduced by the quantum kernel. On the other hand the\n",
    "global shape of the image is preserved, as expected for a convolution\n",
    "layer.\n"
   ]
  },
  {
   "cell_type": "markdown",
   "metadata": {},
   "source": [
    "Hybrid quantum-classical model\n",
    "==============================\n",
    "\n",
    "After the application of the quantum convolution layer we feed the\n",
    "resulting features into a classical neural network that will be trained\n",
    "to classify the $10$ different digits of the MNIST dataset.\n",
    "\n",
    "We use a very simple model: just a fully connected layer with 10 output\n",
    "nodes with a final *softmax* activation function.\n",
    "\n",
    "The model is compiled with a *stochastic-gradient-descent* optimizer,\n",
    "and a *cross-entropy* loss function.\n"
   ]
  },
  {
   "cell_type": "code",
   "execution_count": 29,
   "metadata": {},
   "outputs": [],
   "source": [
    "def MyModel():\n",
    "    \"\"\"Initializes and returns a custom Keras model\n",
    "    which is ready to be trained.\"\"\"\n",
    "    model = keras.models.Sequential([\n",
    "        keras.layers.Flatten(),\n",
    "        keras.layers.Dense(10, activation=\"softmax\")\n",
    "    ])\n",
    "\n",
    "    model.compile(\n",
    "        optimizer='adam',\n",
    "        loss=\"sparse_categorical_crossentropy\",\n",
    "        metrics=[\"accuracy\"],\n",
    "    )\n",
    "    return model"
   ]
  },
  {
   "cell_type": "markdown",
   "metadata": {},
   "source": [
    "Training\n",
    "========\n",
    "\n",
    "We first initialize an instance of the model, then we train and validate\n",
    "it with the dataset that has been already pre-processed by a quantum\n",
    "convolution.\n"
   ]
  },
  {
   "cell_type": "code",
   "execution_count": 30,
   "metadata": {},
   "outputs": [
    {
     "name": "stderr",
     "output_type": "stream",
     "text": [
      "2022-07-23 21:38:06.286059: W tensorflow/stream_executor/platform/default/dso_loader.cc:64] Could not load dynamic library 'libcuda.so.1'; dlerror: libcuda.so.1: cannot open shared object file: No such file or directory\n",
      "2022-07-23 21:38:06.286845: W tensorflow/stream_executor/cuda/cuda_driver.cc:269] failed call to cuInit: UNKNOWN ERROR (303)\n",
      "2022-07-23 21:38:06.287670: I tensorflow/stream_executor/cuda/cuda_diagnostics.cc:156] kernel driver does not appear to be running on this host (BOOK-3T1PPSOGHQ): /proc/driver/nvidia/version does not exist\n",
      "2022-07-23 21:38:06.295774: I tensorflow/core/platform/cpu_feature_guard.cc:193] This TensorFlow binary is optimized with oneAPI Deep Neural Network Library (oneDNN) to use the following CPU instructions in performance-critical operations:  AVX2 AVX_VNNI FMA\n",
      "To enable them in other operations, rebuild TensorFlow with the appropriate compiler flags.\n"
     ]
    },
    {
     "name": "stdout",
     "output_type": "stream",
     "text": [
      "Epoch 1/30\n",
      "15000/15000 - 36s - loss: 0.3545 - accuracy: 0.8928 - val_loss: 0.2866 - val_accuracy: 0.9153 - 36s/epoch - 2ms/step\n",
      "Epoch 2/30\n",
      "15000/15000 - 36s - loss: 0.2528 - accuracy: 0.9252 - val_loss: 0.2371 - val_accuracy: 0.9298 - 36s/epoch - 2ms/step\n",
      "Epoch 3/30\n",
      "15000/15000 - 35s - loss: 0.2370 - accuracy: 0.9301 - val_loss: 0.1957 - val_accuracy: 0.9455 - 35s/epoch - 2ms/step\n",
      "Epoch 4/30\n",
      "15000/15000 - 35s - loss: 0.2278 - accuracy: 0.9339 - val_loss: 0.2082 - val_accuracy: 0.9414 - 35s/epoch - 2ms/step\n",
      "Epoch 5/30\n",
      "15000/15000 - 35s - loss: 0.2212 - accuracy: 0.9364 - val_loss: 0.2234 - val_accuracy: 0.9361 - 35s/epoch - 2ms/step\n",
      "Epoch 6/30\n",
      "15000/15000 - 36s - loss: 0.2199 - accuracy: 0.9374 - val_loss: 0.2030 - val_accuracy: 0.9447 - 36s/epoch - 2ms/step\n",
      "Epoch 7/30\n",
      "15000/15000 - 30s - loss: 0.2113 - accuracy: 0.9398 - val_loss: 0.3486 - val_accuracy: 0.9098 - 30s/epoch - 2ms/step\n",
      "Epoch 8/30\n",
      "15000/15000 - 34s - loss: 0.2129 - accuracy: 0.9394 - val_loss: 0.2442 - val_accuracy: 0.9375 - 34s/epoch - 2ms/step\n",
      "Epoch 9/30\n",
      "15000/15000 - 37s - loss: 0.2114 - accuracy: 0.9400 - val_loss: 0.2673 - val_accuracy: 0.9307 - 37s/epoch - 2ms/step\n",
      "Epoch 10/30\n",
      "15000/15000 - 37s - loss: 0.2105 - accuracy: 0.9412 - val_loss: 0.2827 - val_accuracy: 0.9273 - 37s/epoch - 2ms/step\n",
      "Epoch 11/30\n",
      "15000/15000 - 35s - loss: 0.2107 - accuracy: 0.9414 - val_loss: 0.2850 - val_accuracy: 0.9250 - 35s/epoch - 2ms/step\n",
      "Epoch 12/30\n",
      "15000/15000 - 36s - loss: 0.2089 - accuracy: 0.9419 - val_loss: 0.2348 - val_accuracy: 0.9382 - 36s/epoch - 2ms/step\n",
      "Epoch 13/30\n",
      "15000/15000 - 34s - loss: 0.2067 - accuracy: 0.9418 - val_loss: 0.2640 - val_accuracy: 0.9335 - 34s/epoch - 2ms/step\n",
      "Epoch 14/30\n",
      "15000/15000 - 34s - loss: 0.2067 - accuracy: 0.9433 - val_loss: 0.2331 - val_accuracy: 0.9387 - 34s/epoch - 2ms/step\n",
      "Epoch 15/30\n",
      "15000/15000 - 35s - loss: 0.2028 - accuracy: 0.9434 - val_loss: 0.3256 - val_accuracy: 0.9186 - 35s/epoch - 2ms/step\n",
      "Epoch 16/30\n",
      "15000/15000 - 38s - loss: 0.2053 - accuracy: 0.9440 - val_loss: 0.2464 - val_accuracy: 0.9352 - 38s/epoch - 3ms/step\n",
      "Epoch 17/30\n",
      "15000/15000 - 32s - loss: 0.2050 - accuracy: 0.9439 - val_loss: 0.2405 - val_accuracy: 0.9401 - 32s/epoch - 2ms/step\n",
      "Epoch 18/30\n",
      "15000/15000 - 36s - loss: 0.2036 - accuracy: 0.9452 - val_loss: 0.2726 - val_accuracy: 0.9365 - 36s/epoch - 2ms/step\n",
      "Epoch 19/30\n",
      "15000/15000 - 33s - loss: 0.2047 - accuracy: 0.9431 - val_loss: 0.2317 - val_accuracy: 0.9458 - 33s/epoch - 2ms/step\n",
      "Epoch 20/30\n",
      "15000/15000 - 34s - loss: 0.2003 - accuracy: 0.9448 - val_loss: 0.2304 - val_accuracy: 0.9439 - 34s/epoch - 2ms/step\n",
      "Epoch 21/30\n",
      "15000/15000 - 29s - loss: 0.2024 - accuracy: 0.9449 - val_loss: 0.2849 - val_accuracy: 0.9321 - 29s/epoch - 2ms/step\n",
      "Epoch 22/30\n",
      "15000/15000 - 35s - loss: 0.2024 - accuracy: 0.9459 - val_loss: 0.2393 - val_accuracy: 0.9442 - 35s/epoch - 2ms/step\n",
      "Epoch 23/30\n",
      "15000/15000 - 35s - loss: 0.2030 - accuracy: 0.9454 - val_loss: 0.2420 - val_accuracy: 0.9429 - 35s/epoch - 2ms/step\n",
      "Epoch 24/30\n",
      "15000/15000 - 33s - loss: 0.1981 - accuracy: 0.9466 - val_loss: 0.2468 - val_accuracy: 0.9402 - 33s/epoch - 2ms/step\n",
      "Epoch 25/30\n",
      "15000/15000 - 30s - loss: 0.2001 - accuracy: 0.9460 - val_loss: 0.2746 - val_accuracy: 0.9372 - 30s/epoch - 2ms/step\n",
      "Epoch 26/30\n",
      "15000/15000 - 33s - loss: 0.2026 - accuracy: 0.9463 - val_loss: 0.2995 - val_accuracy: 0.9316 - 33s/epoch - 2ms/step\n",
      "Epoch 27/30\n",
      "15000/15000 - 36s - loss: 0.1983 - accuracy: 0.9469 - val_loss: 0.2539 - val_accuracy: 0.9417 - 36s/epoch - 2ms/step\n",
      "Epoch 28/30\n",
      "15000/15000 - 36s - loss: 0.2010 - accuracy: 0.9457 - val_loss: 0.3310 - val_accuracy: 0.9241 - 36s/epoch - 2ms/step\n",
      "Epoch 29/30\n",
      "15000/15000 - 31s - loss: 0.2021 - accuracy: 0.9473 - val_loss: 0.2924 - val_accuracy: 0.9334 - 31s/epoch - 2ms/step\n",
      "Epoch 30/30\n",
      "15000/15000 - 36s - loss: 0.1985 - accuracy: 0.9470 - val_loss: 0.3785 - val_accuracy: 0.9148 - 36s/epoch - 2ms/step\n"
     ]
    }
   ],
   "source": [
    "q_model = MyModel()\n",
    "\n",
    "q_history = q_model.fit(\n",
    "    q_train_images,\n",
    "    train_labels,\n",
    "    validation_data=(q_test_images, test_labels),\n",
    "    batch_size=4,\n",
    "    epochs=n_epochs,\n",
    "    verbose=2,\n",
    ")"
   ]
  },
  {
   "cell_type": "markdown",
   "metadata": {},
   "source": [
    "In order to compare the results achievable with and without the quantum\n",
    "convolution layer, we initialize also a \\\"classical\\\" instance of the\n",
    "model that will be directly trained and validated with the raw MNIST\n",
    "images (i.e., without quantum pre-processing).\n"
   ]
  },
  {
   "cell_type": "code",
   "execution_count": 31,
   "metadata": {},
   "outputs": [
    {
     "name": "stdout",
     "output_type": "stream",
     "text": [
      "Epoch 1/30\n",
      "15000/15000 - 35s - loss: 0.3599 - accuracy: 0.8996 - val_loss: 0.2850 - val_accuracy: 0.9207 - 35s/epoch - 2ms/step\n",
      "Epoch 2/30\n",
      "15000/15000 - 37s - loss: 0.2865 - accuracy: 0.9196 - val_loss: 0.2837 - val_accuracy: 0.9230 - 37s/epoch - 2ms/step\n",
      "Epoch 3/30\n",
      "15000/15000 - 34s - loss: 0.2755 - accuracy: 0.9236 - val_loss: 0.2805 - val_accuracy: 0.9229 - 34s/epoch - 2ms/step\n",
      "Epoch 4/30\n",
      "15000/15000 - 37s - loss: 0.2703 - accuracy: 0.9247 - val_loss: 0.2795 - val_accuracy: 0.9267 - 37s/epoch - 2ms/step\n",
      "Epoch 5/30\n",
      "15000/15000 - 35s - loss: 0.2666 - accuracy: 0.9266 - val_loss: 0.2987 - val_accuracy: 0.9179 - 35s/epoch - 2ms/step\n",
      "Epoch 6/30\n",
      "15000/15000 - 36s - loss: 0.2639 - accuracy: 0.9271 - val_loss: 0.2813 - val_accuracy: 0.9261 - 36s/epoch - 2ms/step\n",
      "Epoch 7/30\n",
      "15000/15000 - 37s - loss: 0.2612 - accuracy: 0.9286 - val_loss: 0.2818 - val_accuracy: 0.9258 - 37s/epoch - 2ms/step\n",
      "Epoch 8/30\n",
      "15000/15000 - 36s - loss: 0.2596 - accuracy: 0.9289 - val_loss: 0.2962 - val_accuracy: 0.9221 - 36s/epoch - 2ms/step\n",
      "Epoch 9/30\n",
      "15000/15000 - 37s - loss: 0.2578 - accuracy: 0.9296 - val_loss: 0.2877 - val_accuracy: 0.9279 - 37s/epoch - 2ms/step\n",
      "Epoch 10/30\n",
      "15000/15000 - 37s - loss: 0.2567 - accuracy: 0.9293 - val_loss: 0.2934 - val_accuracy: 0.9204 - 37s/epoch - 2ms/step\n",
      "Epoch 11/30\n",
      "15000/15000 - 36s - loss: 0.2555 - accuracy: 0.9298 - val_loss: 0.2913 - val_accuracy: 0.9244 - 36s/epoch - 2ms/step\n",
      "Epoch 12/30\n",
      "15000/15000 - 34s - loss: 0.2553 - accuracy: 0.9301 - val_loss: 0.2920 - val_accuracy: 0.9226 - 34s/epoch - 2ms/step\n",
      "Epoch 13/30\n",
      "15000/15000 - 34s - loss: 0.2540 - accuracy: 0.9301 - val_loss: 0.2922 - val_accuracy: 0.9251 - 34s/epoch - 2ms/step\n",
      "Epoch 14/30\n",
      "15000/15000 - 36s - loss: 0.2532 - accuracy: 0.9311 - val_loss: 0.2895 - val_accuracy: 0.9284 - 36s/epoch - 2ms/step\n",
      "Epoch 15/30\n",
      "15000/15000 - 33s - loss: 0.2532 - accuracy: 0.9312 - val_loss: 0.2984 - val_accuracy: 0.9228 - 33s/epoch - 2ms/step\n",
      "Epoch 16/30\n",
      "15000/15000 - 37s - loss: 0.2520 - accuracy: 0.9308 - val_loss: 0.3031 - val_accuracy: 0.9241 - 37s/epoch - 2ms/step\n",
      "Epoch 17/30\n",
      "15000/15000 - 36s - loss: 0.2519 - accuracy: 0.9312 - val_loss: 0.2997 - val_accuracy: 0.9243 - 36s/epoch - 2ms/step\n",
      "Epoch 18/30\n",
      "15000/15000 - 35s - loss: 0.2511 - accuracy: 0.9316 - val_loss: 0.2964 - val_accuracy: 0.9249 - 35s/epoch - 2ms/step\n",
      "Epoch 19/30\n",
      "15000/15000 - 31s - loss: 0.2510 - accuracy: 0.9297 - val_loss: 0.3071 - val_accuracy: 0.9244 - 31s/epoch - 2ms/step\n",
      "Epoch 20/30\n",
      "15000/15000 - 34s - loss: 0.2498 - accuracy: 0.9317 - val_loss: 0.3024 - val_accuracy: 0.9257 - 34s/epoch - 2ms/step\n",
      "Epoch 21/30\n",
      "15000/15000 - 35s - loss: 0.2499 - accuracy: 0.9317 - val_loss: 0.3158 - val_accuracy: 0.9220 - 35s/epoch - 2ms/step\n",
      "Epoch 22/30\n",
      "15000/15000 - 36s - loss: 0.2493 - accuracy: 0.9314 - val_loss: 0.3035 - val_accuracy: 0.9245 - 36s/epoch - 2ms/step\n",
      "Epoch 23/30\n",
      "15000/15000 - 30s - loss: 0.2486 - accuracy: 0.9315 - val_loss: 0.3078 - val_accuracy: 0.9250 - 30s/epoch - 2ms/step\n",
      "Epoch 24/30\n",
      "15000/15000 - 34s - loss: 0.2484 - accuracy: 0.9320 - val_loss: 0.3038 - val_accuracy: 0.9262 - 34s/epoch - 2ms/step\n",
      "Epoch 25/30\n",
      "15000/15000 - 34s - loss: 0.2484 - accuracy: 0.9323 - val_loss: 0.3087 - val_accuracy: 0.9241 - 34s/epoch - 2ms/step\n",
      "Epoch 26/30\n",
      "15000/15000 - 34s - loss: 0.2491 - accuracy: 0.9319 - val_loss: 0.3112 - val_accuracy: 0.9265 - 34s/epoch - 2ms/step\n",
      "Epoch 27/30\n",
      "15000/15000 - 37s - loss: 0.2476 - accuracy: 0.9327 - val_loss: 0.3265 - val_accuracy: 0.9192 - 37s/epoch - 2ms/step\n",
      "Epoch 28/30\n",
      "15000/15000 - 36s - loss: 0.2480 - accuracy: 0.9312 - val_loss: 0.3092 - val_accuracy: 0.9264 - 36s/epoch - 2ms/step\n",
      "Epoch 29/30\n",
      "15000/15000 - 33s - loss: 0.2476 - accuracy: 0.9323 - val_loss: 0.3027 - val_accuracy: 0.9280 - 33s/epoch - 2ms/step\n",
      "Epoch 30/30\n",
      "15000/15000 - 37s - loss: 0.2466 - accuracy: 0.9330 - val_loss: 0.3153 - val_accuracy: 0.9223 - 37s/epoch - 2ms/step\n"
     ]
    }
   ],
   "source": [
    "c_model = MyModel()\n",
    "\n",
    "c_history = c_model.fit(\n",
    "    train_images,\n",
    "    train_labels,\n",
    "    validation_data=(test_images, test_labels),\n",
    "    batch_size=4,\n",
    "    epochs=n_epochs,\n",
    "    verbose=2,\n",
    ")"
   ]
  },
  {
   "cell_type": "markdown",
   "metadata": {},
   "source": [
    "Results\n",
    "=======\n",
    "\n",
    "We can finally plot the test accuracy and the test loss with respect to\n",
    "the number of training epochs.\n"
   ]
  },
  {
   "cell_type": "code",
   "execution_count": 32,
   "metadata": {},
   "outputs": [
    {
     "data": {
      "image/png": "[encoded data removed]",
      "text/plain": [
       "<Figure size 432x648 with 2 Axes>"
      ]
     },
     "metadata": {},
     "output_type": "display_data"
    }
   ],
   "source": [
    "import matplotlib.pyplot as plt\n",
    "\n",
    "plt.style.use(\"seaborn\")\n",
    "fig, (ax1, ax2) = plt.subplots(2, 1, figsize=(6, 9))\n",
    "\n",
    "ax1.plot(q_history.history[\"val_accuracy\"], \"-ob\", label=\"With quantum layer\")\n",
    "ax1.plot(c_history.history[\"val_accuracy\"], \"-og\", label=\"Without quantum layer\")\n",
    "ax1.set_ylabel(\"Accuracy\")\n",
    "ax1.set_ylim([0, 1])\n",
    "ax1.set_xlabel(\"Epoch\")\n",
    "ax1.legend()\n",
    "\n",
    "ax2.plot(q_history.history[\"val_loss\"], \"-ob\", label=\"With quantum layer\")\n",
    "ax2.plot(c_history.history[\"val_loss\"], \"-og\", label=\"Without quantum layer\")\n",
    "ax2.set_ylabel(\"Loss\")\n",
    "ax2.set_ylim(top=2.5)\n",
    "ax2.set_xlabel(\"Epoch\")\n",
    "ax2.legend()\n",
    "plt.tight_layout()\n",
    "plt.show()"
   ]
  },
  {
   "cell_type": "markdown",
   "metadata": {},
   "source": [
    "References\n",
    "==========\n",
    "\n",
    "1.  Maxwell Henderson, Samriddhi Shakya, Shashindra Pradhan, Tristan\n",
    "    Cook. \\\"Quanvolutional Neural Networks: Powering Image Recognition\n",
    "    with Quantum Circuits.\\\"\n",
    "    [arXiv:1904.04767](https://arxiv.org/abs/1904.04767), 2019.\n"
   ]
  }
 ],
 "metadata": {
  "kernelspec": {
   "display_name": "Python 3 (ipykernel)",
   "language": "python",
   "name": "python3"
  },
  "language_info": {
   "codemirror_mode": {
    "name": "ipython",
    "version": 3
   },
   "file_extension": ".py",
   "mimetype": "text/x-python",
   "name": "python",
   "nbconvert_exporter": "python",
   "pygments_lexer": "ipython3",
   "version": "3.8.10"
  }
 },
 "nbformat": 4,
 "nbformat_minor": 1
}
